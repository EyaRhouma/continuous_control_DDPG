{
 "cells": [
  {
   "cell_type": "markdown",
   "metadata": {},
   "source": [
    "# Continuous Control\n",
    "\n",
    "---\n",
    "\n",
    "In this notebook, In this project, I build a reinforcement learning (RL) agent that controls a robotic arm within Unity's Reacher environment. The goal is to get 20 different robotic arms to maintain contact with the green spheres.\n",
    "\n",
    "A reward of +0.1 is provided for each time-step that the agent's hand is in the goal location. Thus, the goal of your agent is to maintain its position at the target location for as many time steps as possible.\n",
    "\n",
    "In order to solve the environment, our agent must achieve a score of +30 averaged across all 20 agents for 100 consecutive episodes.\n",
    "This project was for the purpose to solve the second project of the [Deep Reinforcement Learning Nanodegree](https://www.udacity.com/course/deep-reinforcement-learning-nanodegree--nd893) program.\n",
    "\n",
    "### 1. Import libraries\n"
   ]
  },
  {
   "cell_type": "code",
   "execution_count": 1,
   "metadata": {},
   "outputs": [],
   "source": [
    "from ddpg_agent import Agent\n",
    "from collections import deque\n",
    "import matplotlib.pyplot as plt\n",
    "import numpy as np\n",
    "import random\n",
    "import time\n",
    "import torch\n",
    "from unityagents import UnityEnvironment\n",
    "\n",
    "%matplotlib inline"
   ]
  },
  {
   "cell_type": "markdown",
   "metadata": {},
   "source": [
    "#### Unity Environnement upload"
   ]
  },
  {
   "cell_type": "markdown",
   "metadata": {},
   "source": [
    "Next, we will start the environment!  **_Before running the code cell below_**, change the `file_name` parameter to match the location of the Unity environment that you downloaded.\n",
    "\n",
    "- **Mac**: `\"path/to/Reacher.app\"`\n",
    "- **Windows** (x86): `\"path/to/Reacher_Windows_x86/Reacher.exe\"`\n",
    "- **Windows** (x86_64): `\"path/to/Reacher_Windows_x86_64/Reacher.exe\"`\n",
    "- **Linux** (x86): `\"path/to/Reacher_Linux/Reacher.x86\"`\n",
    "- **Linux** (x86_64): `\"path/to/Reacher_Linux/Reacher.x86_64\"`\n",
    "- **Linux** (x86, headless): `\"path/to/Reacher_Linux_NoVis/Reacher.x86\"`\n",
    "- **Linux** (x86_64, headless): `\"path/to/Reacher_Linux_NoVis/Reacher.x86_64\"`\n",
    "\n",
    "For instance, if you are using a Mac, then you downloaded `Reacher.app`.  If this file is in the same folder as the notebook, then the line below should appear as follows:\n",
    "```\n",
    "env = UnityEnvironment(file_name=\"Reacher.app\")\n",
    "```"
   ]
  },
  {
   "cell_type": "code",
   "execution_count": 2,
   "metadata": {},
   "outputs": [
    {
     "name": "stderr",
     "output_type": "stream",
     "text": [
      "INFO:unityagents:\n",
      "'Academy' started successfully!\n",
      "Unity Academy name: Academy\n",
      "        Number of Brains: 1\n",
      "        Number of External Brains : 1\n",
      "        Lesson number : 0\n",
      "        Reset Parameters :\n",
      "\t\tgoal_speed -> 1.0\n",
      "\t\tgoal_size -> 5.0\n",
      "Unity brain name: ReacherBrain\n",
      "        Number of Visual Observations (per agent): 0\n",
      "        Vector Observation space type: continuous\n",
      "        Vector Observation space size (per agent): 33\n",
      "        Number of stacked Vector Observation: 1\n",
      "        Vector Action space type: continuous\n",
      "        Vector Action space size (per agent): 4\n",
      "        Vector Action descriptions: , , , \n"
     ]
    }
   ],
   "source": [
    "## when running locally\n",
    "env = UnityEnvironment(file_name='Reacher20.app')\n",
    "\n",
    "## when running via AWS EC2\n",
    "# env = UnityEnvironment(file_name='Reacher_Linux_NoVis/Reacher.x86_64')\n",
    "\n",
    "## when running in Udacity workspace\n",
    "# env = UnityEnvironment(file_name='/data/Reacher_Linux_NoVis/Reacher.x86_64')"
   ]
  },
  {
   "cell_type": "markdown",
   "metadata": {},
   "source": [
    "Environments contain **_brains_** which are responsible for deciding the actions of their associated agents. Here we check for the first brain available, and set it as the default brain we will be controlling from Python."
   ]
  },
  {
   "cell_type": "code",
   "execution_count": 3,
   "metadata": {
    "collapsed": true
   },
   "outputs": [],
   "source": [
    "# get the default brain\n",
    "brain_name = env.brain_names[0]\n",
    "brain = env.brains[brain_name]"
   ]
  },
  {
   "cell_type": "markdown",
   "metadata": {},
   "source": [
    "### 2. Examine the State and Action Spaces\n",
    "\n",
    "In this environment, a double-jointed arm can move to target locations. A reward of `+0.1` is provided for each step that the agent's hand is in the goal location. Thus, the goal of your agent is to maintain its position at the target location for as many time steps as possible.\n",
    "\n",
    "The observation space consists of `33` variables corresponding to position, rotation, velocity, and angular velocities of the arm.  Each action is a vector with four numbers, corresponding to torque applicable to two joints.  Every entry in the action vector must be a number between `-1` and `1`.\n",
    "\n"
   ]
  },
  {
   "cell_type": "code",
   "execution_count": 4,
   "metadata": {},
   "outputs": [
    {
     "name": "stdout",
     "output_type": "stream",
     "text": [
      "Number of agents: 20\n",
      "Size of each action: 4\n",
      "There are 20 agents. Each observes a state with length: 33\n",
      "The state for the first agent looks like: [ 0.00000000e+00 -4.00000000e+00  0.00000000e+00  1.00000000e+00\n",
      " -0.00000000e+00 -0.00000000e+00 -4.37113883e-08  0.00000000e+00\n",
      "  0.00000000e+00  0.00000000e+00  0.00000000e+00  0.00000000e+00\n",
      "  0.00000000e+00  0.00000000e+00 -1.00000000e+01  0.00000000e+00\n",
      "  1.00000000e+00 -0.00000000e+00 -0.00000000e+00 -4.37113883e-08\n",
      "  0.00000000e+00  0.00000000e+00  0.00000000e+00  0.00000000e+00\n",
      "  0.00000000e+00  0.00000000e+00  5.75471878e+00 -1.00000000e+00\n",
      "  5.55726624e+00  0.00000000e+00  1.00000000e+00  0.00000000e+00\n",
      " -1.68164849e-01]\n"
     ]
    }
   ],
   "source": [
    "# reset the environment\n",
    "env_info = env.reset(train_mode=True)[brain_name]\n",
    "\n",
    "# number of agents\n",
    "num_agents = len(env_info.agents)\n",
    "print('Number of agents:', num_agents)\n",
    "\n",
    "# size of each action\n",
    "action_size = brain.vector_action_space_size\n",
    "print('Size of each action:', action_size)\n",
    "\n",
    "# examine the state space \n",
    "states = env_info.vector_observations\n",
    "state_size = states.shape[1]\n",
    "print('There are {} agents. Each observes a state with length: {}'.format(states.shape[0], state_size))\n",
    "print('The state for the first agent looks like:', states[0])"
   ]
  },
  {
   "cell_type": "markdown",
   "metadata": {},
   "source": [
    "### 3. Take Random Actions in the Environment\n",
    "\n",
    "In the next code cell,we will use the Python API to control the agent and receive feedback from the environment.\n",
    "\n",
    "Once this cell is executed, you will watch the agent's performance, if it selects an action at random with each time step.  A window should pop up that allows you to observe the agent, as it moves through the environment.  \n"
   ]
  },
  {
   "cell_type": "code",
   "execution_count": 6,
   "metadata": {},
   "outputs": [
    {
     "name": "stdout",
     "output_type": "stream",
     "text": [
      "Total score (averaged over agents) this episode: 0.06299999859184027\n"
     ]
    }
   ],
   "source": [
    "env_info = env.reset(train_mode=False)[brain_name]     # reset the environment    \n",
    "states = env_info.vector_observations                  # get the current state (for each agent)\n",
    "scores = np.zeros(num_agents)                          # initialize the score (for each agent)\n",
    "while True:\n",
    "    actions = np.random.randn(num_agents, action_size) # select an action (for each agent)\n",
    "    actions = np.clip(actions, -1, 1)                  # all actions between -1 and 1\n",
    "    env_info = env.step(actions)[brain_name]           # send all actions to tne environment\n",
    "    next_states = env_info.vector_observations         # get next state (for each agent)\n",
    "    rewards = env_info.rewards                         # get reward (for each agent)\n",
    "    dones = env_info.local_done                        # see if episode finished\n",
    "    scores += env_info.rewards                         # update the score (for each agent)\n",
    "    states = next_states                               # roll over states to next time step\n",
    "    if np.any(dones):                                  # exit loop if episode finished\n",
    "        break\n",
    "print('Total score (averaged over agents) this episode: {}'.format(np.mean(scores)))"
   ]
  },
  {
   "cell_type": "markdown",
   "metadata": {},
   "source": [
    "### 4. Train using DDPG agents\n"
   ]
  },
  {
   "cell_type": "code",
   "execution_count": 5,
   "metadata": {
    "collapsed": true
   },
   "outputs": [],
   "source": [
    "# DDPG function\n",
    "\n",
    "def ddpg(n_episodes=500, max_t=1000, solved_score=30.0, consec_episodes=100, print_every=1, train_mode=True,\n",
    "         actor_path='actor_ckpt.pth', critic_path='critic_ckpt.pth'):\n",
    "    \"\"\"Deep Deterministic Policy Gradient (DDPG)\n",
    "    \n",
    "    Params\n",
    "    ======\n",
    "        n_episodes (int)      : maximum number of training episodes\n",
    "        max_t (int)           : maximum number of timesteps per episode\n",
    "        train_mode (bool)     : if 'True' set environment to training mode\n",
    "        solved_score (float)  : min avg score over consecutive episodes\n",
    "        consec_episodes (int) : number of consecutive episodes used to calculate score\n",
    "        print_every (int)     : interval to display results\n",
    "        actor_path (str)      : directory to store actor network weights\n",
    "        critic_path (str)     : directory to store critic network weights\n",
    "\n",
    "    \"\"\"\n",
    "    mean_scores = []                               # list of mean scores from each episode\n",
    "    min_scores = []                                # list of lowest scores from each episode\n",
    "    max_scores = []                                # list of highest scores from each episode\n",
    "    best_score = -np.inf\n",
    "    scores_window = deque(maxlen=consec_episodes)  # mean scores from most recent episodes\n",
    "    moving_avgs = []                               # list of moving averages\n",
    "    \n",
    "    for i_episode in range(1, n_episodes+1):\n",
    "        env_info = env.reset(train_mode=train_mode)[brain_name] # reset environment\n",
    "        states = env_info.vector_observations                   # get current state for each agent      \n",
    "        scores = np.zeros(num_agents)                           # initialize score for each agent\n",
    "        agent.reset()\n",
    "        start_time = time.time()\n",
    "        for t in range(max_t):\n",
    "            actions = agent.act(states, add_noise=True)         # select an action\n",
    "            env_info = env.step(actions)[brain_name]            # send actions to environment\n",
    "            next_states = env_info.vector_observations          # get next state\n",
    "            rewards = env_info.rewards                          # get reward\n",
    "            dones = env_info.local_done                         # see if episode has finished\n",
    "            # save experience to replay buffer, perform learning step at defined interval\n",
    "            for state, action, reward, next_state, done in zip(states, actions, rewards, next_states, dones):\n",
    "                agent.step(state, action, reward, next_state, done, t)             \n",
    "            states = next_states\n",
    "            scores += rewards        \n",
    "            if np.any(dones):                                   # exit loop when episode ends\n",
    "                break\n",
    "\n",
    "        duration = time.time() - start_time\n",
    "        min_scores.append(np.min(scores))             # save lowest score for a single agent\n",
    "        max_scores.append(np.max(scores))             # save highest score for a single agent        \n",
    "        mean_scores.append(np.mean(scores))           # save mean score for the episode\n",
    "        scores_window.append(mean_scores[-1])         # save mean score to window\n",
    "        moving_avgs.append(np.mean(scores_window))    # save moving average\n",
    "                \n",
    "        if i_episode % print_every == 0:\n",
    "            print('\\rEpisode {} ({} sec)  -- \\tMin: {:.1f}\\tMax: {:.1f}\\tMean: {:.1f}\\tMov. Avg: {:.1f}'.format(\\\n",
    "                  i_episode, round(duration), min_scores[-1], max_scores[-1], mean_scores[-1], moving_avgs[-1]))\n",
    "        \n",
    "        if train_mode and mean_scores[-1] > best_score:\n",
    "            torch.save(agent.actor_local.state_dict(), actor_path)\n",
    "            torch.save(agent.critic_local.state_dict(), critic_path)\n",
    "                  \n",
    "        if moving_avgs[-1] >= solved_score and i_episode >= consec_episodes:\n",
    "            print('\\nEnvironment SOLVED in {} episodes!\\tMoving Average ={:.1f} over last {} episodes'.format(\\\n",
    "                                    i_episode-consec_episodes, moving_avgs[-1], consec_episodes))            \n",
    "            if train_mode:\n",
    "                torch.save(agent.actor_local.state_dict(), actor_path)\n",
    "                torch.save(agent.critic_local.state_dict(), critic_path)  \n",
    "            break\n",
    "            \n",
    "    return mean_scores, moving_avgs"
   ]
  },
  {
   "cell_type": "code",
   "execution_count": 8,
   "metadata": {},
   "outputs": [
    {
     "name": "stdout",
     "output_type": "stream",
     "text": [
      "Episode 1 (89 sec)  -- \tMin: 0.0\tMax: 2.1\tMean: 0.6\tMov. Avg: 0.6\n",
      "Episode 2 (92 sec)  -- \tMin: 0.0\tMax: 2.3\tMean: 0.9\tMov. Avg: 0.8\n",
      "Episode 3 (93 sec)  -- \tMin: 0.7\tMax: 3.6\tMean: 2.0\tMov. Avg: 1.2\n",
      "Episode 4 (94 sec)  -- \tMin: 0.7\tMax: 4.8\tMean: 2.5\tMov. Avg: 1.5\n",
      "Episode 5 (94 sec)  -- \tMin: 1.1\tMax: 6.3\tMean: 2.9\tMov. Avg: 1.8\n",
      "Episode 6 (96 sec)  -- \tMin: 2.5\tMax: 7.3\tMean: 4.4\tMov. Avg: 2.2\n",
      "Episode 7 (96 sec)  -- \tMin: 1.3\tMax: 6.5\tMean: 3.5\tMov. Avg: 2.4\n",
      "Episode 8 (97 sec)  -- \tMin: 2.6\tMax: 11.5\tMean: 4.9\tMov. Avg: 2.7\n",
      "Episode 9 (97 sec)  -- \tMin: 3.0\tMax: 9.0\tMean: 5.8\tMov. Avg: 3.0\n",
      "Episode 10 (98 sec)  -- \tMin: 2.9\tMax: 9.8\tMean: 6.9\tMov. Avg: 3.4\n",
      "Episode 11 (100 sec)  -- \tMin: 4.2\tMax: 18.1\tMean: 8.1\tMov. Avg: 3.9\n",
      "Episode 12 (101 sec)  -- \tMin: 4.3\tMax: 12.9\tMean: 8.0\tMov. Avg: 4.2\n",
      "Episode 13 (101 sec)  -- \tMin: 3.2\tMax: 11.1\tMean: 7.2\tMov. Avg: 4.4\n",
      "Episode 14 (103 sec)  -- \tMin: 2.7\tMax: 18.8\tMean: 9.0\tMov. Avg: 4.8\n",
      "Episode 15 (103 sec)  -- \tMin: 3.1\tMax: 13.4\tMean: 8.3\tMov. Avg: 5.0\n",
      "Episode 16 (105 sec)  -- \tMin: 2.5\tMax: 16.2\tMean: 8.6\tMov. Avg: 5.2\n",
      "Episode 17 (107 sec)  -- \tMin: 2.2\tMax: 18.2\tMean: 8.5\tMov. Avg: 5.4\n",
      "Episode 18 (109 sec)  -- \tMin: 2.9\tMax: 12.8\tMean: 7.8\tMov. Avg: 5.5\n",
      "Episode 19 (112 sec)  -- \tMin: 4.6\tMax: 13.2\tMean: 9.9\tMov. Avg: 5.8\n",
      "Episode 20 (114 sec)  -- \tMin: 3.7\tMax: 16.0\tMean: 9.8\tMov. Avg: 6.0\n",
      "Episode 21 (117 sec)  -- \tMin: 7.4\tMax: 26.0\tMean: 12.8\tMov. Avg: 6.3\n",
      "Episode 22 (117 sec)  -- \tMin: 6.1\tMax: 19.7\tMean: 12.0\tMov. Avg: 6.6\n",
      "Episode 23 (119 sec)  -- \tMin: 6.0\tMax: 25.7\tMean: 12.4\tMov. Avg: 6.8\n",
      "Episode 24 (122 sec)  -- \tMin: 8.6\tMax: 19.2\tMean: 13.2\tMov. Avg: 7.1\n",
      "Episode 25 (125 sec)  -- \tMin: 4.9\tMax: 19.6\tMean: 14.3\tMov. Avg: 7.4\n",
      "Episode 26 (124 sec)  -- \tMin: 5.5\tMax: 18.6\tMean: 13.0\tMov. Avg: 7.6\n",
      "Episode 27 (129 sec)  -- \tMin: 8.7\tMax: 24.5\tMean: 14.6\tMov. Avg: 7.8\n",
      "Episode 28 (129 sec)  -- \tMin: 10.5\tMax: 20.4\tMean: 15.9\tMov. Avg: 8.1\n",
      "Episode 29 (132 sec)  -- \tMin: 11.5\tMax: 18.9\tMean: 15.7\tMov. Avg: 8.4\n",
      "Episode 30 (134 sec)  -- \tMin: 9.2\tMax: 26.8\tMean: 15.2\tMov. Avg: 8.6\n",
      "Episode 31 (137 sec)  -- \tMin: 8.4\tMax: 23.1\tMean: 14.8\tMov. Avg: 8.8\n",
      "Episode 32 (139 sec)  -- \tMin: 9.7\tMax: 27.8\tMean: 15.5\tMov. Avg: 9.0\n",
      "Episode 33 (142 sec)  -- \tMin: 10.5\tMax: 24.1\tMean: 18.5\tMov. Avg: 9.3\n",
      "Episode 34 (145 sec)  -- \tMin: 13.2\tMax: 25.6\tMean: 18.4\tMov. Avg: 9.6\n",
      "Episode 35 (145 sec)  -- \tMin: 13.5\tMax: 22.8\tMean: 18.0\tMov. Avg: 9.8\n",
      "Episode 36 (149 sec)  -- \tMin: 9.2\tMax: 22.9\tMean: 18.2\tMov. Avg: 10.1\n",
      "Episode 37 (155 sec)  -- \tMin: 8.9\tMax: 27.3\tMean: 19.5\tMov. Avg: 10.3\n",
      "Episode 38 (151 sec)  -- \tMin: 15.2\tMax: 25.2\tMean: 20.2\tMov. Avg: 10.6\n",
      "Episode 39 (154 sec)  -- \tMin: 15.3\tMax: 25.1\tMean: 21.0\tMov. Avg: 10.8\n",
      "Episode 40 (158 sec)  -- \tMin: 16.4\tMax: 26.7\tMean: 21.2\tMov. Avg: 11.1\n",
      "Episode 41 (160 sec)  -- \tMin: 16.6\tMax: 36.4\tMean: 22.1\tMov. Avg: 11.4\n",
      "Episode 42 (161 sec)  -- \tMin: 15.3\tMax: 30.9\tMean: 24.1\tMov. Avg: 11.7\n",
      "Episode 43 (163 sec)  -- \tMin: 17.9\tMax: 33.1\tMean: 26.4\tMov. Avg: 12.0\n",
      "Episode 44 (166 sec)  -- \tMin: 17.2\tMax: 32.5\tMean: 24.9\tMov. Avg: 12.3\n",
      "Episode 45 (172 sec)  -- \tMin: 21.8\tMax: 34.9\tMean: 27.2\tMov. Avg: 12.6\n",
      "Episode 46 (168 sec)  -- \tMin: 16.0\tMax: 35.7\tMean: 28.5\tMov. Avg: 13.0\n",
      "Episode 47 (178 sec)  -- \tMin: 22.9\tMax: 37.3\tMean: 28.9\tMov. Avg: 13.3\n",
      "Episode 48 (171 sec)  -- \tMin: 20.6\tMax: 35.8\tMean: 30.0\tMov. Avg: 13.7\n",
      "Episode 49 (173 sec)  -- \tMin: 25.2\tMax: 35.4\tMean: 31.0\tMov. Avg: 14.0\n",
      "Episode 50 (178 sec)  -- \tMin: 25.2\tMax: 37.2\tMean: 31.6\tMov. Avg: 14.4\n",
      "Episode 51 (179 sec)  -- \tMin: 27.3\tMax: 38.4\tMean: 32.6\tMov. Avg: 14.7\n",
      "Episode 52 (175 sec)  -- \tMin: 29.0\tMax: 36.3\tMean: 32.9\tMov. Avg: 15.1\n",
      "Episode 53 (177 sec)  -- \tMin: 21.6\tMax: 39.1\tMean: 33.1\tMov. Avg: 15.4\n",
      "Episode 54 (184 sec)  -- \tMin: 28.1\tMax: 38.8\tMean: 34.4\tMov. Avg: 15.8\n",
      "Episode 55 (181 sec)  -- \tMin: 29.4\tMax: 38.6\tMean: 34.1\tMov. Avg: 16.1\n",
      "Episode 56 (180 sec)  -- \tMin: 28.7\tMax: 39.6\tMean: 33.8\tMov. Avg: 16.4\n",
      "Episode 57 (179 sec)  -- \tMin: 28.6\tMax: 38.6\tMean: 34.2\tMov. Avg: 16.7\n",
      "Episode 58 (184 sec)  -- \tMin: 29.2\tMax: 39.3\tMean: 34.9\tMov. Avg: 17.0\n",
      "Episode 59 (184 sec)  -- \tMin: 32.9\tMax: 39.4\tMean: 36.8\tMov. Avg: 17.4\n",
      "Episode 60 (182 sec)  -- \tMin: 31.9\tMax: 39.2\tMean: 36.4\tMov. Avg: 17.7\n",
      "Episode 61 (184 sec)  -- \tMin: 29.3\tMax: 39.6\tMean: 36.7\tMov. Avg: 18.0\n",
      "Episode 62 (178 sec)  -- \tMin: 33.1\tMax: 39.0\tMean: 36.3\tMov. Avg: 18.3\n",
      "Episode 63 (175 sec)  -- \tMin: 25.7\tMax: 39.6\tMean: 36.7\tMov. Avg: 18.6\n",
      "Episode 64 (182 sec)  -- \tMin: 34.3\tMax: 39.1\tMean: 37.3\tMov. Avg: 18.9\n",
      "Episode 65 (177 sec)  -- \tMin: 35.0\tMax: 39.5\tMean: 38.3\tMov. Avg: 19.2\n",
      "Episode 66 (179 sec)  -- \tMin: 36.4\tMax: 39.5\tMean: 38.3\tMov. Avg: 19.5\n",
      "Episode 67 (178 sec)  -- \tMin: 33.5\tMax: 39.6\tMean: 39.0\tMov. Avg: 19.8\n",
      "Episode 68 (181 sec)  -- \tMin: 34.8\tMax: 39.6\tMean: 38.7\tMov. Avg: 20.0\n",
      "Episode 69 (179 sec)  -- \tMin: 37.4\tMax: 39.5\tMean: 38.8\tMov. Avg: 20.3\n",
      "Episode 70 (181 sec)  -- \tMin: 32.9\tMax: 39.6\tMean: 38.2\tMov. Avg: 20.6\n",
      "Episode 71 (182 sec)  -- \tMin: 36.3\tMax: 39.6\tMean: 38.6\tMov. Avg: 20.8\n",
      "Episode 72 (176 sec)  -- \tMin: 37.5\tMax: 39.6\tMean: 39.1\tMov. Avg: 21.1\n",
      "Episode 73 (173 sec)  -- \tMin: 38.0\tMax: 39.5\tMean: 38.9\tMov. Avg: 21.3\n",
      "Episode 74 (171 sec)  -- \tMin: 35.9\tMax: 39.4\tMean: 38.4\tMov. Avg: 21.6\n",
      "Episode 75 (172 sec)  -- \tMin: 36.8\tMax: 39.6\tMean: 38.5\tMov. Avg: 21.8\n",
      "Episode 76 (176 sec)  -- \tMin: 37.1\tMax: 39.6\tMean: 38.4\tMov. Avg: 22.0\n",
      "Episode 77 (174 sec)  -- \tMin: 37.8\tMax: 39.6\tMean: 39.0\tMov. Avg: 22.2\n",
      "Episode 78 (182 sec)  -- \tMin: 37.9\tMax: 39.6\tMean: 39.1\tMov. Avg: 22.4\n",
      "Episode 79 (177 sec)  -- \tMin: 38.5\tMax: 39.6\tMean: 39.3\tMov. Avg: 22.7\n",
      "Episode 80 (172 sec)  -- \tMin: 37.4\tMax: 39.6\tMean: 39.3\tMov. Avg: 22.9\n",
      "Episode 81 (176 sec)  -- \tMin: 38.1\tMax: 39.7\tMean: 39.1\tMov. Avg: 23.1\n",
      "Episode 82 (172 sec)  -- \tMin: 37.6\tMax: 39.6\tMean: 38.9\tMov. Avg: 23.3\n",
      "Episode 83 (176 sec)  -- \tMin: 38.2\tMax: 39.6\tMean: 39.1\tMov. Avg: 23.4\n",
      "Episode 84 (174 sec)  -- \tMin: 35.4\tMax: 39.6\tMean: 38.8\tMov. Avg: 23.6\n",
      "Episode 85 (176 sec)  -- \tMin: 35.8\tMax: 39.6\tMean: 39.0\tMov. Avg: 23.8\n",
      "Episode 86 (173 sec)  -- \tMin: 37.4\tMax: 39.7\tMean: 39.1\tMov. Avg: 24.0\n",
      "Episode 87 (174 sec)  -- \tMin: 37.3\tMax: 39.6\tMean: 39.1\tMov. Avg: 24.2\n",
      "Episode 88 (178 sec)  -- \tMin: 37.0\tMax: 39.6\tMean: 38.9\tMov. Avg: 24.3\n",
      "Episode 89 (176 sec)  -- \tMin: 37.3\tMax: 39.5\tMean: 38.9\tMov. Avg: 24.5\n",
      "Episode 90 (171 sec)  -- \tMin: 37.4\tMax: 39.5\tMean: 38.7\tMov. Avg: 24.6\n",
      "Episode 91 (175 sec)  -- \tMin: 36.6\tMax: 39.5\tMean: 38.5\tMov. Avg: 24.8\n",
      "Episode 92 (172 sec)  -- \tMin: 36.8\tMax: 39.6\tMean: 38.7\tMov. Avg: 25.0\n",
      "Episode 93 (173 sec)  -- \tMin: 36.0\tMax: 39.6\tMean: 38.2\tMov. Avg: 25.1\n",
      "Episode 94 (172 sec)  -- \tMin: 36.0\tMax: 39.6\tMean: 38.6\tMov. Avg: 25.2\n",
      "Episode 95 (177 sec)  -- \tMin: 36.6\tMax: 39.6\tMean: 38.8\tMov. Avg: 25.4\n",
      "Episode 96 (172 sec)  -- \tMin: 30.7\tMax: 39.6\tMean: 37.9\tMov. Avg: 25.5\n",
      "Episode 97 (176 sec)  -- \tMin: 31.7\tMax: 39.6\tMean: 36.5\tMov. Avg: 25.6\n",
      "Episode 98 (175 sec)  -- \tMin: 30.4\tMax: 39.6\tMean: 36.4\tMov. Avg: 25.7\n",
      "Episode 99 (172 sec)  -- \tMin: 31.0\tMax: 39.4\tMean: 38.0\tMov. Avg: 25.9\n",
      "Episode 100 (180 sec)  -- \tMin: 31.7\tMax: 39.7\tMean: 38.2\tMov. Avg: 26.0\n",
      "Episode 101 (179 sec)  -- \tMin: 35.3\tMax: 39.7\tMean: 38.9\tMov. Avg: 26.4\n",
      "Episode 102 (184 sec)  -- \tMin: 33.5\tMax: 39.6\tMean: 38.4\tMov. Avg: 26.7\n",
      "Episode 103 (174 sec)  -- \tMin: 30.7\tMax: 39.6\tMean: 38.0\tMov. Avg: 27.1\n",
      "Episode 104 (177 sec)  -- \tMin: 35.3\tMax: 39.1\tMean: 37.7\tMov. Avg: 27.5\n",
      "Episode 105 (173 sec)  -- \tMin: 32.8\tMax: 38.8\tMean: 37.7\tMov. Avg: 27.8\n",
      "Episode 106 (175 sec)  -- \tMin: 34.5\tMax: 39.4\tMean: 37.7\tMov. Avg: 28.1\n",
      "Episode 107 (174 sec)  -- \tMin: 32.9\tMax: 39.6\tMean: 38.1\tMov. Avg: 28.5\n",
      "Episode 108 (180 sec)  -- \tMin: 31.7\tMax: 39.6\tMean: 38.2\tMov. Avg: 28.8\n",
      "Episode 109 (187 sec)  -- \tMin: 37.3\tMax: 39.6\tMean: 38.9\tMov. Avg: 29.1\n",
      "Episode 110 (182 sec)  -- \tMin: 36.2\tMax: 39.6\tMean: 38.6\tMov. Avg: 29.5\n",
      "Episode 111 (189 sec)  -- \tMin: 35.8\tMax: 39.2\tMean: 37.8\tMov. Avg: 29.8\n",
      "Episode 112 (177 sec)  -- \tMin: 31.7\tMax: 39.3\tMean: 37.8\tMov. Avg: 30.1\n",
      "\n",
      "Environment SOLVED in 12 episodes!\tMoving Average =30.1 over last 100 episodes\n"
     ]
    }
   ],
   "source": [
    "# run the training loop\n",
    "agent = Agent(state_size=state_size, action_size=action_size, random_seed=1)\n",
    "scores, avgs = ddpg()"
   ]
  },
  {
   "cell_type": "code",
   "execution_count": 9,
   "metadata": {},
   "outputs": [
    {
     "data": {
      "image/png": "[encoded data removed]",
      "text/plain": [
       "<Figure size 432x288 with 1 Axes>"
      ]
     },
     "metadata": {},
     "output_type": "display_data"
    }
   ],
   "source": [
    "# plot the scores\n",
    "fig = plt.figure()\n",
    "ax = fig.add_subplot(111)\n",
    "plt.plot(np.arange(len(scores)), scores, label='DDPG')\n",
    "plt.plot(np.arange(len(scores)), avgs, c='r', label='moving avg')\n",
    "plt.ylabel('Score')\n",
    "plt.xlabel('Episode #')\n",
    "plt.legend(loc='upper left');\n",
    "plt.show()"
   ]
  },
  {
   "cell_type": "markdown",
   "metadata": {},
   "source": [
    "When finished, you can close the environment."
   ]
  },
  {
   "cell_type": "code",
   "execution_count": null,
   "metadata": {
    "collapsed": true
   },
   "outputs": [],
   "source": [
    "env.close()"
   ]
  }
 ],
 "metadata": {
  "anaconda-cloud": {},
  "kernelspec": {
   "display_name": "Python 3",
   "language": "python",
   "name": "python3"
  },
  "language_info": {
   "codemirror_mode": {
    "name": "ipython",
    "version": 3
   },
   "file_extension": ".py",
   "mimetype": "text/x-python",
   "name": "python",
   "nbconvert_exporter": "python",
   "pygments_lexer": "ipython3",
   "version": "3.7.3"
  }
 },
 "nbformat": 4,
 "nbformat_minor": 2
}
